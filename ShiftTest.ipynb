{
 "cells": [
  {
   "cell_type": "code",
   "execution_count": 1,
   "metadata": {},
   "outputs": [],
   "source": [
    "import numpy as np\n",
    "import pandas as pd\n",
    "import matplotlib.pyplot as plt\n",
    "import statsmodels.formula.api as sm\n",
    "import seaborn as sns\n",
    "import tensorflow as tf # This code has been tested with TensorFlow 1.6\n"
   ]
  },
  {
   "cell_type": "code",
   "execution_count": 4,
   "metadata": {},
   "outputs": [
    {
     "name": "stderr",
     "output_type": "stream",
     "text": [
      "/Library/Frameworks/Python.framework/Versions/3.6/lib/python3.6/site-packages/ipykernel_launcher.py:8: FutureWarning: Sorting because non-concatenation axis is not aligned. A future version\n",
      "of pandas will change to not sort by default.\n",
      "\n",
      "To accept the future behavior, pass 'sort=False'.\n",
      "\n",
      "To retain the current behavior and silence the warning, pass 'sort=True'.\n",
      "\n",
      "  \n"
     ]
    },
    {
     "data": {
      "text/plain": [
       "<matplotlib.axes._subplots.AxesSubplot at 0x12d258e48>"
      ]
     },
     "execution_count": 4,
     "metadata": {},
     "output_type": "execute_result"
    },
    {
     "data": {
      "image/png": "[encoded data removed]",
      "text/plain": [
       "<Figure size 432x288 with 1 Axes>"
      ]
     },
     "metadata": {},
     "output_type": "display_data"
    }
   ],
   "source": [
    "SBI['SBI']=SBI['close']\n",
    "AXISBANK['AXISBANK']=AXISBANK['close']\n",
    "BANKBARODA['BANKBARODA']=BANKBARODA['close']\n",
    "HDFCBANK['HDFCBANK']=HDFCBANK['close']\n",
    "ICICIBANK['ICICIBANK']=ICICIBANK['close']\n",
    "PNB['PNB']=PNB['close']\n",
    "\n",
    "dataSet=pd.concat([SBI, AXISBANK, BANKBARODA,HDFCBANK,ICICIBANK,PNB], axis=1)\n",
    "dataSet=dataSet[['AXISBANK','BANKBARODA','HDFCBANK','ICICIBANK','PNB','SBI']]\n",
    "dataSet=dataSet.dropna()\n",
    "dataSet.plot(kind='kde')"
   ]
  },
  {
   "cell_type": "code",
   "execution_count": 5,
   "metadata": {},
   "outputs": [
    {
     "data": {
      "text/html": [
       "<div>\n",
       "<style scoped>\n",
       "    .dataframe tbody tr th:only-of-type {\n",
       "        vertical-align: middle;\n",
       "    }\n",
       "\n",
       "    .dataframe tbody tr th {\n",
       "        vertical-align: top;\n",
       "    }\n",
       "\n",
       "    .dataframe thead th {\n",
       "        text-align: right;\n",
       "    }\n",
       "</style>\n",
       "<table border=\"1\" class=\"dataframe\">\n",
       "  <thead>\n",
       "    <tr style=\"text-align: right;\">\n",
       "      <th></th>\n",
       "      <th>AXISBANK</th>\n",
       "      <th>BANKBARODA</th>\n",
       "      <th>HDFCBANK</th>\n",
       "      <th>ICICIBANK</th>\n",
       "      <th>PNB</th>\n",
       "      <th>SBI</th>\n",
       "    </tr>\n",
       "  </thead>\n",
       "  <tbody>\n",
       "    <tr>\n",
       "      <th>2002-07-01</th>\n",
       "      <td>7.68</td>\n",
       "      <td>13.09</td>\n",
       "      <td>42.36</td>\n",
       "      <td>25.1273</td>\n",
       "      <td>9.57</td>\n",
       "      <td>22.8379</td>\n",
       "    </tr>\n",
       "    <tr>\n",
       "      <th>2002-07-02</th>\n",
       "      <td>7.65</td>\n",
       "      <td>12.37</td>\n",
       "      <td>41.93</td>\n",
       "      <td>26.7454</td>\n",
       "      <td>9.50</td>\n",
       "      <td>22.8143</td>\n",
       "    </tr>\n",
       "    <tr>\n",
       "      <th>2002-07-03</th>\n",
       "      <td>7.77</td>\n",
       "      <td>12.13</td>\n",
       "      <td>41.97</td>\n",
       "      <td>28.0909</td>\n",
       "      <td>9.51</td>\n",
       "      <td>22.5879</td>\n",
       "    </tr>\n",
       "    <tr>\n",
       "      <th>2002-07-04</th>\n",
       "      <td>7.75</td>\n",
       "      <td>12.07</td>\n",
       "      <td>43.47</td>\n",
       "      <td>27.3909</td>\n",
       "      <td>9.72</td>\n",
       "      <td>22.6728</td>\n",
       "    </tr>\n",
       "    <tr>\n",
       "      <th>2002-07-05</th>\n",
       "      <td>7.76</td>\n",
       "      <td>11.86</td>\n",
       "      <td>42.68</td>\n",
       "      <td>27.6727</td>\n",
       "      <td>9.85</td>\n",
       "      <td>22.7672</td>\n",
       "    </tr>\n",
       "  </tbody>\n",
       "</table>\n",
       "</div>"
      ],
      "text/plain": [
       "            AXISBANK  BANKBARODA  HDFCBANK  ICICIBANK   PNB      SBI\n",
       "2002-07-01      7.68       13.09     42.36    25.1273  9.57  22.8379\n",
       "2002-07-02      7.65       12.37     41.93    26.7454  9.50  22.8143\n",
       "2002-07-03      7.77       12.13     41.97    28.0909  9.51  22.5879\n",
       "2002-07-04      7.75       12.07     43.47    27.3909  9.72  22.6728\n",
       "2002-07-05      7.76       11.86     42.68    27.6727  9.85  22.7672"
      ]
     },
     "execution_count": 5,
     "metadata": {},
     "output_type": "execute_result"
    }
   ],
   "source": [
    "dataSet.head()"
   ]
  },
  {
   "cell_type": "code",
   "execution_count": null,
   "metadata": {},
   "outputs": [],
   "source": []
  }
 ],
 "metadata": {
  "kernelspec": {
   "display_name": "Python 3",
   "language": "python",
   "name": "python3"
  },
  "language_info": {
   "codemirror_mode": {
    "name": "ipython",
    "version": 3
   },
   "file_extension": ".py",
   "mimetype": "text/x-python",
   "name": "python",
   "nbconvert_exporter": "python",
   "pygments_lexer": "ipython3",
   "version": "3.6.0"
  }
 },
 "nbformat": 4,
 "nbformat_minor": 2
}
