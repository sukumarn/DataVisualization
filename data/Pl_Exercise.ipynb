{
 "cells": [
  {
   "cell_type": "code",
   "execution_count": 1,
   "metadata": {},
   "outputs": [],
   "source": [
    "import pandas as pd\n",
    "import numpy as np"
   ]
  },
  {
   "cell_type": "code",
   "execution_count": 4,
   "metadata": {},
   "outputs": [],
   "source": [
    "def read_goog_sp_500():\n",
    "    googleFile='data/GOOGL.csv'\n",
    "    spFile ='data/GSPC.csv'\n",
    "    goog=pd.read_csv(googleFile,sep=',',usecols=[0,5],names=['Date','Goog'],header=0)\n",
    "    sp=pd.read_csv(spFile,sep=',',usecols=[0,5],names=['Date','SP500'],header=0)\n",
    "    goog['SP500']=sp['SP500']\n"
   ]
  },
  {
   "cell_type": "code",
   "execution_count": null,
   "metadata": {},
   "outputs": [],
   "source": []
  }
 ],
 "metadata": {
  "kernelspec": {
   "display_name": "Python 3",
   "language": "python",
   "name": "python3"
  },
  "language_info": {
   "codemirror_mode": {
    "name": "ipython",
    "version": 3
   },
   "file_extension": ".py",
   "mimetype": "text/x-python",
   "name": "python",
   "nbconvert_exporter": "python",
   "pygments_lexer": "ipython3",
   "version": "3.6.0"
  }
 },
 "nbformat": 4,
 "nbformat_minor": 2
}
